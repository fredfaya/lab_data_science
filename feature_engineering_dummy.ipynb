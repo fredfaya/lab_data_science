{
 "cells": [
  {
   "cell_type": "code",
   "execution_count": 1,
   "metadata": {
    "collapsed": true
   },
   "outputs": [],
   "source": [
    "import pandas as pd"
   ]
  },
  {
   "cell_type": "code",
   "execution_count": 2,
   "outputs": [],
   "source": [
    "df = pd.read_csv('./files/dataset_clean_without_fill.csv')"
   ],
   "metadata": {
    "collapsed": false
   }
  },
  {
   "cell_type": "code",
   "execution_count": 3,
   "outputs": [],
   "source": [
    "# On va recuperer toutes les colonnes de type categoricielles\n",
    "\n",
    "categorical_columns = df.select_dtypes(include=['object', 'category']).columns\n",
    "\n",
    "# Pour chaque colonnes, on va retirer les colonnes qui ont plus de 99% de valeurs manquantes\n",
    "\n",
    "for col in categorical_columns:\n",
    "    if df[col].isnull().sum() > 0.99 * len(df):\n",
    "        df.drop(col, axis=1, inplace=True)"
   ],
   "metadata": {
    "collapsed": false
   }
  },
  {
   "cell_type": "code",
   "execution_count": 4,
   "outputs": [],
   "source": [
    "# On va supprimer les colonnes qui ont moins 6 valeurs uniques\n",
    "\n",
    "for col in df.columns:\n",
    "    if len(df[col].unique()) < 6:\n",
    "        df.drop(col, axis=1, inplace=True)"
   ],
   "metadata": {
    "collapsed": false
   }
  },
  {
   "cell_type": "code",
   "execution_count": 5,
   "outputs": [
    {
     "name": "stdout",
     "output_type": "stream",
     "text": [
      "<class 'pandas.core.frame.DataFrame'>\n",
      "RangeIndex: 4241 entries, 0 to 4240\n",
      "Columns: 4139 entries, Var7 to Var14993\n",
      "dtypes: float64(818), int64(3303), object(18)\n",
      "memory usage: 133.9+ MB\n"
     ]
    }
   ],
   "source": [
    "df.info()"
   ],
   "metadata": {
    "collapsed": false
   }
  },
  {
   "cell_type": "code",
   "execution_count": 6,
   "outputs": [
    {
     "data": {
      "text/plain": "   Var7  Var11  Var13  Var17  Var20   Var21      Var22  Var25  Var27  \\\n0   0.0      0      0      6      0   47974   319480.0      0      0   \n1   0.0      0      0     10      0  116530        0.0      0      0   \n2   0.0      0      0      0      0       0  1745640.0      0      0   \n3   0.0      0      0      0      0       0    63192.0      0      0   \n4   0.0      0      0      0      0       0    12200.0      0      0   \n\n       Var28  ...  Var14822  Var14893  Var14903    Var14904  Var14910  \\\n0  1251252.0  ...      4bZ_   VicHEoo      _lnU  uUxXC7veal      py8m   \n1        0.0  ...      yFwt   J7IUB91      _lnU     toseir_      py8m   \n2  1321164.0  ...      GMbg   NqRDYUf      _lnU     QMUlWPt      py8m   \n3   270450.0  ...      WhKH   0eyRkLO   MgxIGSo     Qle7bvR      py8m   \n4  2592000.0  ...      GrEx   _tp5CAA      xfMf     Qle7bvR      py8m   \n\n   Var14913       Var14923  Var14965  Var14990  Var14993  \n0      JKc4  eUNaPPAA49Enq      StWh      0200   IPyde4c  \n1      2e81        ILESZvp      e5M2      X7HG   tQAVcMq  \n2      z0H8        ILESZvp      hgOy      77a1   mnKkkvG  \n3      mZkv           2PEs      MT6F      ABkU   ZF0bafC  \n4      1zA6     ED3wDbnc4Y      DX_r      0200   z1miBkG  \n\n[5 rows x 4139 columns]",
      "text/html": "<div>\n<style scoped>\n    .dataframe tbody tr th:only-of-type {\n        vertical-align: middle;\n    }\n\n    .dataframe tbody tr th {\n        vertical-align: top;\n    }\n\n    .dataframe thead th {\n        text-align: right;\n    }\n</style>\n<table border=\"1\" class=\"dataframe\">\n  <thead>\n    <tr style=\"text-align: right;\">\n      <th></th>\n      <th>Var7</th>\n      <th>Var11</th>\n      <th>Var13</th>\n      <th>Var17</th>\n      <th>Var20</th>\n      <th>Var21</th>\n      <th>Var22</th>\n      <th>Var25</th>\n      <th>Var27</th>\n      <th>Var28</th>\n      <th>...</th>\n      <th>Var14822</th>\n      <th>Var14893</th>\n      <th>Var14903</th>\n      <th>Var14904</th>\n      <th>Var14910</th>\n      <th>Var14913</th>\n      <th>Var14923</th>\n      <th>Var14965</th>\n      <th>Var14990</th>\n      <th>Var14993</th>\n    </tr>\n  </thead>\n  <tbody>\n    <tr>\n      <th>0</th>\n      <td>0.0</td>\n      <td>0</td>\n      <td>0</td>\n      <td>6</td>\n      <td>0</td>\n      <td>47974</td>\n      <td>319480.0</td>\n      <td>0</td>\n      <td>0</td>\n      <td>1251252.0</td>\n      <td>...</td>\n      <td>4bZ_</td>\n      <td>VicHEoo</td>\n      <td>_lnU</td>\n      <td>uUxXC7veal</td>\n      <td>py8m</td>\n      <td>JKc4</td>\n      <td>eUNaPPAA49Enq</td>\n      <td>StWh</td>\n      <td>0200</td>\n      <td>IPyde4c</td>\n    </tr>\n    <tr>\n      <th>1</th>\n      <td>0.0</td>\n      <td>0</td>\n      <td>0</td>\n      <td>10</td>\n      <td>0</td>\n      <td>116530</td>\n      <td>0.0</td>\n      <td>0</td>\n      <td>0</td>\n      <td>0.0</td>\n      <td>...</td>\n      <td>yFwt</td>\n      <td>J7IUB91</td>\n      <td>_lnU</td>\n      <td>toseir_</td>\n      <td>py8m</td>\n      <td>2e81</td>\n      <td>ILESZvp</td>\n      <td>e5M2</td>\n      <td>X7HG</td>\n      <td>tQAVcMq</td>\n    </tr>\n    <tr>\n      <th>2</th>\n      <td>0.0</td>\n      <td>0</td>\n      <td>0</td>\n      <td>0</td>\n      <td>0</td>\n      <td>0</td>\n      <td>1745640.0</td>\n      <td>0</td>\n      <td>0</td>\n      <td>1321164.0</td>\n      <td>...</td>\n      <td>GMbg</td>\n      <td>NqRDYUf</td>\n      <td>_lnU</td>\n      <td>QMUlWPt</td>\n      <td>py8m</td>\n      <td>z0H8</td>\n      <td>ILESZvp</td>\n      <td>hgOy</td>\n      <td>77a1</td>\n      <td>mnKkkvG</td>\n    </tr>\n    <tr>\n      <th>3</th>\n      <td>0.0</td>\n      <td>0</td>\n      <td>0</td>\n      <td>0</td>\n      <td>0</td>\n      <td>0</td>\n      <td>63192.0</td>\n      <td>0</td>\n      <td>0</td>\n      <td>270450.0</td>\n      <td>...</td>\n      <td>WhKH</td>\n      <td>0eyRkLO</td>\n      <td>MgxIGSo</td>\n      <td>Qle7bvR</td>\n      <td>py8m</td>\n      <td>mZkv</td>\n      <td>2PEs</td>\n      <td>MT6F</td>\n      <td>ABkU</td>\n      <td>ZF0bafC</td>\n    </tr>\n    <tr>\n      <th>4</th>\n      <td>0.0</td>\n      <td>0</td>\n      <td>0</td>\n      <td>0</td>\n      <td>0</td>\n      <td>0</td>\n      <td>12200.0</td>\n      <td>0</td>\n      <td>0</td>\n      <td>2592000.0</td>\n      <td>...</td>\n      <td>GrEx</td>\n      <td>_tp5CAA</td>\n      <td>xfMf</td>\n      <td>Qle7bvR</td>\n      <td>py8m</td>\n      <td>1zA6</td>\n      <td>ED3wDbnc4Y</td>\n      <td>DX_r</td>\n      <td>0200</td>\n      <td>z1miBkG</td>\n    </tr>\n  </tbody>\n</table>\n<p>5 rows × 4139 columns</p>\n</div>"
     },
     "execution_count": 6,
     "metadata": {},
     "output_type": "execute_result"
    }
   ],
   "source": [
    "df.head()"
   ],
   "metadata": {
    "collapsed": false
   }
  },
  {
   "cell_type": "code",
   "execution_count": 7,
   "outputs": [],
   "source": [
    "def build_dummy_vals(df_arg, nb_dummy_max_arg, ratio_max_arg):\n",
    "    dummy_val_dict = {}\n",
    "    cols = [k for k,v in dict(df_arg.dtypes).items() if v.name in ['category', 'object']]\n",
    "    for c in cols:\n",
    "        vc = df_arg[c].value_counts()/sum(df_arg[c].value_counts()) > ratio_max_arg\n",
    "        dummy_labels = [k for (k,v) in vc.items() if v][:nb_dummy_max_arg]\n",
    "        dummy_val_dict[c] = dummy_labels\n",
    "    return dummy_val_dict\n",
    "\n",
    "def apply_dummy_vals(df_arg, dummy_dict):\n",
    "    for c, dummy_labels in dummy_dict.items():\n",
    "        tmp_enc = df_arg[c].map(lambda v: v if v in dummy_labels else 'other')\n",
    "        dummies = pd.get_dummies(tmp_enc, prefix='dumm_'+c)\n",
    "        df_arg = pd.concat([df_arg, dummies], axis=1)\n",
    "    return df_arg"
   ],
   "metadata": {
    "collapsed": false
   }
  },
  {
   "cell_type": "code",
   "execution_count": 8,
   "outputs": [],
   "source": [
    "nb_dummy_max = 5\n",
    "ratio_max = .01\n",
    "\n",
    "dummy_dict = build_dummy_vals(df, nb_dummy_max, ratio_max)\n",
    "dummy_df = apply_dummy_vals(df, dummy_dict)"
   ],
   "metadata": {
    "collapsed": false
   }
  },
  {
   "cell_type": "code",
   "execution_count": 9,
   "outputs": [
    {
     "name": "stdout",
     "output_type": "stream",
     "text": [
      "<class 'pandas.core.frame.DataFrame'>\n",
      "RangeIndex: 4241 entries, 0 to 4240\n",
      "Columns: 4230 entries, Var7 to dumm_Var14993_z1miBkG\n",
      "dtypes: bool(91), float64(818), int64(3303), object(18)\n",
      "memory usage: 134.3+ MB\n"
     ]
    }
   ],
   "source": [
    "dummy_df.info()"
   ],
   "metadata": {
    "collapsed": false
   }
  },
  {
   "cell_type": "code",
   "execution_count": 10,
   "outputs": [],
   "source": [
    "dummy_df.to_csv('./files/dummy_dataset.csv', index=False)"
   ],
   "metadata": {
    "collapsed": false
   }
  },
  {
   "cell_type": "code",
   "execution_count": null,
   "outputs": [],
   "source": [],
   "metadata": {
    "collapsed": false
   }
  }
 ],
 "metadata": {
  "kernelspec": {
   "display_name": "Python 3",
   "language": "python",
   "name": "python3"
  },
  "language_info": {
   "codemirror_mode": {
    "name": "ipython",
    "version": 2
   },
   "file_extension": ".py",
   "mimetype": "text/x-python",
   "name": "python",
   "nbconvert_exporter": "python",
   "pygments_lexer": "ipython2",
   "version": "2.7.6"
  }
 },
 "nbformat": 4,
 "nbformat_minor": 0
}
